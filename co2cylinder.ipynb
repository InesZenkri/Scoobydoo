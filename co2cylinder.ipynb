{
 "cells": [
  {
   "cell_type": "code",
   "execution_count": 16,
   "metadata": {},
   "outputs": [
    {
     "name": "stdout",
     "output_type": "stream",
     "text": [
      "Coefficients: \n",
      " [-0.02695497  0.42777515  0.01208875  0.19133395  0.36366648 -0.02122508\n",
      " -0.01256586  0.68452971]\n",
      "Mean squared error: 39.98\n",
      "Coefficient of determination: 0.98\n"
     ]
    },
    {
     "data": {
      "image/png": "[encoded data removed]",
      "text/plain": [
       "<Figure size 640x480 with 1 Axes>"
      ]
     },
     "metadata": {},
     "output_type": "display_data"
    }
   ],
   "source": [
    "import matplotlib.pyplot as plt\n",
    "import pandas as pd\n",
    "from sklearn import datasets, linear_model\n",
    "from sklearn.metrics import mean_squared_error, r2_score\n",
    "\n",
    "# Load the dataset\n",
    "data = pd.read_csv('./initial_data.csv')\n",
    "data_X = data.iloc[:, :8].to_numpy()\n",
    "data_y = data['CO2'].to_numpy()\n",
    "\n",
    "# Split the data into training/testing sets\n",
    "data_X_train = data_X[:-20]\n",
    "data_X_test = data_X[-20:]\n",
    "\n",
    "# Split the targets into training/testing sets\n",
    "data_y_train = data_y[:-20]\n",
    "data_y_test = data_y[-20:]\n",
    "\n",
    "# Create linear regression object\n",
    "regr = linear_model.LinearRegression()\n",
    "\n",
    "# Train the model using the training sets\n",
    "regr.fit(data_X_train, data_y_train)\n",
    "\n",
    "# Make predictions using the testing set\n",
    "data_y_pred = regr.predict(data_X_test)\n",
    "\n",
    "# The coefficients\n",
    "print(\"Coefficients: \\n\", regr.coef_)\n",
    "# The mean squared error\n",
    "print(\"Mean squared error: %.2f\" % mean_squared_error(data_y_test, data_y_pred))\n",
    "# The coefficient of determination: 1 is perfect prediction\n",
    "print(\"Coefficient of determination: %.2f\" % r2_score(data_y_test, data_y_pred))\n",
    "\n",
    "# Plot outputs\n",
    "plt.scatter(data_X_test[:, 1], data_y_test, color=\"red\")\n",
    "plt.scatter(data_X_test[:, 1], data_y_pred, color=\"blue\", linewidth=3)\n",
    "# draw lines that connect the predicted points with the real points\n",
    "for i in range(len(data_X_test)):\n",
    "    plt.plot([data_X_test[i, 1], data_X_test[i, 1]], [data_y_test[i], data_y_pred[i]], color='black', linewidth=1)\n",
    "\n",
    "plt.legend(['Real', 'Predicted'])\n",
    "plt.xticks(())\n",
    "plt.yticks(())\n",
    "\n",
    "plt.show()\n"
   ]
  },
  {
   "cell_type": "markdown",
   "metadata": {},
   "source": []
  }
 ],
 "metadata": {
  "kernelspec": {
   "display_name": "Python 3",
   "language": "python",
   "name": "python3"
  },
  "language_info": {
   "codemirror_mode": {
    "name": "ipython",
    "version": 3
   },
   "file_extension": ".py",
   "mimetype": "text/x-python",
   "name": "python",
   "nbconvert_exporter": "python",
   "pygments_lexer": "ipython3",
   "version": "3.12.0"
  }
 },
 "nbformat": 4,
 "nbformat_minor": 2
}
